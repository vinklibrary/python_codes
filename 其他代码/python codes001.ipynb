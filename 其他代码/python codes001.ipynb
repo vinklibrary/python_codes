{
 "cells": [
  {
   "cell_type": "markdown",
   "metadata": {},
   "source": [
    "# Python 3.6 新功能 "
   ]
  },
  {
   "cell_type": "code",
   "execution_count": 14,
   "metadata": {},
   "outputs": [
    {
     "name": "stdout",
     "output_type": "stream",
     "text": [
      "100100\n",
      "Hello,Bob\n",
      "10\n"
     ]
    }
   ],
   "source": [
    "# 增加数字可读性\n",
    "six_figures = 100_100\n",
    "print(six_figures)\n",
    "# 新的格式化字符串的方法\n",
    "name = 'Bob'\n",
    "print(f'Hello,{name}')\n",
    "#从3.5开始，可以给函数增加\n",
    "def my_add(a : int,b:int)->int:\n",
    "    return a+b\n",
    "print(my_add(4,6))"
   ]
  },
  {
   "cell_type": "markdown",
   "metadata": {},
   "source": [
    "# Python Bloom Filter"
   ]
  },
  {
   "cell_type": "code",
   "execution_count": 11,
   "metadata": {},
   "outputs": [
    {
     "data": {
      "text/plain": [
       "100100"
      ]
     },
     "execution_count": 11,
     "metadata": {},
     "output_type": "execute_result"
    }
   ],
   "source": [
    "# Python进行\n",
    "six_figures"
   ]
  },
  {
   "cell_type": "markdown",
   "metadata": {},
   "source": [
    "# Python 获取内网IP地址\n",
    "这里主要用到socket包，如果是MAC或windows系统，直接通过主机名获取IP就行，如果是Linux系统，则有所不同。"
   ]
  },
  {
   "cell_type": "code",
   "execution_count": 5,
   "metadata": {},
   "outputs": [
    {
     "name": "stdout",
     "output_type": "stream",
     "text": [
      "本机内网IP地址：127.0.1.1\n"
     ]
    }
   ],
   "source": [
    "import socket\n",
    "import platform\n",
    "\n",
    "def getIP():\n",
    "    #获取Linux IP地址\n",
    "    try:\n",
    "        s = socket.socket(socket.AF_INET,socket.SOCK_DGRAM)\n",
    "        s.connect((\"www.baidu.com\",0))\n",
    "        ip = s.getpeername()[0]\n",
    "    except:\n",
    "        ip = '0.0.0.0'\n",
    "    finally:\n",
    "        s.close()\n",
    "    return ip\n",
    "\n",
    "sys_type = platform.system()\n",
    "if sys_type == \"Windows\" or \"Darwin\":\n",
    "    ip_address = socket.gethostbyname(socket.gethostname())\n",
    "    print(\"本机内网IP地址：%s\"%ip_address)\n",
    "elif sys_type==\"Linux\":\n",
    "    ip_address=getIP()\n",
    "    print(\"本机内网IP地址：%s\"%ip_address)\n",
    "else:\n",
    "    print(\"其他操作系统\")"
   ]
  },
  {
   "cell_type": "code",
   "execution_count": 2,
   "metadata": {},
   "outputs": [
    {
     "name": "stdout",
     "output_type": "stream",
     "text": [
      "Linux\n"
     ]
    }
   ],
   "source": [
    "import platform\n",
    "sys_type = platform.system()\n",
    "print(sys_type)"
   ]
  },
  {
   "cell_type": "code",
   "execution_count": 3,
   "metadata": {},
   "outputs": [
    {
     "data": {
      "text/plain": [
       "'shenxvdong-ThinkPad-T440p'"
      ]
     },
     "execution_count": 3,
     "metadata": {},
     "output_type": "execute_result"
    }
   ],
   "source": [
    "import socket\n",
    "socket.gethostname()"
   ]
  },
  {
   "cell_type": "code",
   "execution_count": 4,
   "metadata": {},
   "outputs": [
    {
     "data": {
      "text/plain": [
       "'127.0.1.1'"
      ]
     },
     "execution_count": 4,
     "metadata": {},
     "output_type": "execute_result"
    }
   ],
   "source": [
    "socket.gethostbyname(socket.gethostname())"
   ]
  },
  {
   "cell_type": "markdown",
   "metadata": {},
   "source": [
    "# Python获取外网IP地址\n",
    "这里需要借助一个网页，这个网页会自动显示出客户端请求外网IP地址，我们只需要请求这个网页，获取网页内容，然后通过正则表达式匹配出IP地址"
   ]
  },
  {
   "cell_type": "code",
   "execution_count": 7,
   "metadata": {},
   "outputs": [
    {
     "name": "stdout",
     "output_type": "stream",
     "text": [
      "本机外网IP地址：125.119.223.47\n"
     ]
    }
   ],
   "source": [
    "import requests\n",
    "import re\n",
    "\n",
    "def getIP():\n",
    "    text = requests.get('http://txt.go.sohu.com/ip/soip').text\n",
    "    ip = re.findall('\\d+.\\d+.\\d+.\\d+',text)\n",
    "    return ip[0]\n",
    "\n",
    "print(\"本机外网IP地址：%s\" %getIP())"
   ]
  },
  {
   "cell_type": "markdown",
   "metadata": {},
   "source": [
    "# Python实现6大排序算法"
   ]
  },
  {
   "cell_type": "code",
   "execution_count": 8,
   "metadata": {},
   "outputs": [],
   "source": [
    "### 选择排序"
   ]
  },
  {
   "cell_type": "code",
   "execution_count": 9,
   "metadata": {},
   "outputs": [],
   "source": [
    "### 插入排序"
   ]
  },
  {
   "cell_type": "code",
   "execution_count": 10,
   "metadata": {},
   "outputs": [],
   "source": [
    "### 快速排序"
   ]
  },
  {
   "cell_type": "code",
   "execution_count": 11,
   "metadata": {},
   "outputs": [],
   "source": [
    "### 堆排序"
   ]
  },
  {
   "cell_type": "code",
   "execution_count": 12,
   "metadata": {},
   "outputs": [],
   "source": [
    "### 基数排序"
   ]
  },
  {
   "cell_type": "code",
   "execution_count": 13,
   "metadata": {},
   "outputs": [],
   "source": [
    "### 冒泡排序"
   ]
  },
  {
   "cell_type": "markdown",
   "metadata": {},
   "source": [
    "#  TXT2CSV"
   ]
  },
  {
   "cell_type": "code",
   "execution_count": null,
   "metadata": {},
   "outputs": [],
   "source": [
    "#!/usr/bin/env python\n",
    "\n",
    "import os, sys\n",
    "\n",
    "usage_string = 'usage: txt2csv.py {tr|te} input output'\n",
    "\n",
    "if len(sys.argv) != 4:\n",
    "    print(usage_string)\n",
    "    exit(1)\n",
    "\n",
    "type, src_path, dst_path = sys.argv[1:]\n",
    "\n",
    "if type == 'tr':\n",
    "    header = 'Id,Label,I1,I2,I3,I4,I5,I6,I7,I8,I9,I10,I11,I12,I13,C1,C2,C3,C4,C5,C6,C7,C8,C9,C10,C11,C12,C13,C14,C15,C16,C17,C18,C19,C20,C21,C22,C23,C24,C25,C26' \n",
    "    idx = 10000000\n",
    "elif type == 'te':\n",
    "    header = 'Id,I1,I2,I3,I4,I5,I6,I7,I8,I9,I10,I11,I12,I13,C1,C2,C3,C4,C5,C6,C7,C8,C9,C10,C11,C12,C13,C14,C15,C16,C17,C18,C19,C20,C21,C22,C23,C24,C25,C26' \n",
    "    idx = 60000000\n",
    "else:\n",
    "    print(usage_string)\n",
    "    exit(1)\n",
    "\n",
    "with open(dst_path, 'w') as f:\n",
    "    f.write(header + '\\r\\n')\n",
    "    for line in open(src_path, 'r'):\n",
    "        line = str(idx) + ',' + line.replace('\\t', ',')\n",
    "        f.write(line.replace('\\n', '\\r\\n'))\n",
    "        idx += 1"
   ]
  },
  {
   "cell_type": "code",
   "execution_count": null,
   "metadata": {},
   "outputs": [],
   "source": []
  }
 ],
 "metadata": {
  "kernelspec": {
   "display_name": "Python 3",
   "language": "python",
   "name": "python3"
  },
  "language_info": {
   "codemirror_mode": {
    "name": "ipython",
    "version": 3
   },
   "file_extension": ".py",
   "mimetype": "text/x-python",
   "name": "python",
   "nbconvert_exporter": "python",
   "pygments_lexer": "ipython3",
   "version": "3.7.1"
  }
 },
 "nbformat": 4,
 "nbformat_minor": 2
}
