{
 "cells": [
  {
   "cell_type": "code",
   "execution_count": 27,
   "metadata": {},
   "outputs": [],
   "source": [
    "import json\n",
    "import tqdm\n",
    "import random"
   ]
  },
  {
   "cell_type": "code",
   "execution_count": 28,
   "metadata": {},
   "outputs": [
    {
     "data": {
      "text/plain": [
       "0.3836010241232263"
      ]
     },
     "execution_count": 28,
     "metadata": {},
     "output_type": "execute_result"
    }
   ],
   "source": [
    "random.random()"
   ]
  },
  {
   "cell_type": "code",
   "execution_count": 29,
   "metadata": {},
   "outputs": [],
   "source": [
    "channels = ['OPPO','XIAOMI','VIVO','HUAWEI','APPLE','SAMSUNG']\n",
    "def get_random_app_channel(random_seed):\n",
    "    rand_num = random.random(random_seed=random_seed)\n",
    "    if rand_num<0.1:\n",
    "        return channels[0]\n",
    "    elif rand_num<0.3:\n",
    "        return channels[1]\n",
    "    elif rand_num<0.5:\n",
    "        return channels[2]\n",
    "    elif rand_num<0.7:\n",
    "        return channels[3]\n",
    "    elif rand_num<0.9:\n",
    "        return channels[4]\n",
    "    else:\n",
    "        return channels[5]"
   ]
  },
  {
   "cell_type": "code",
   "execution_count": 35,
   "metadata": {},
   "outputs": [],
   "source": [
    "file = open(\"./generated_log.txt\", 'w')\n",
    "for i,date in enumerate(['20190716', '20190717', '20190718', '20190719', '20190720']):\n",
    "    date2 = date[0:4]+\"-\"+date[4:6]+\"-\"+date[6:8]\n",
    "    for nums in range(1000):\n",
    "        random_app_channel = get_random_app_channel((nums+i)*(nums))\n",
    "        random_role_id = str(random.randint(0,99999999)).zfill(8)\n",
    "        this_line = f'/home/g60/gamedata/log/g60_GameStatistic_{date}.log [{date2} 00:00:06][LoginRole]'+',{'+f'\"last_logout_time\":100,\"ip\":\"117.136.90.171\",\"vip\":0,\"app_channel\":\"{random_app_channel}\",\"role_id\":\"{random_role_id}\",\"same_udid\":\"97054387\"'+'}\\n'\n",
    "        file.write(this_line)\n",
    "file.close()"
   ]
  },
  {
   "cell_type": "code",
   "execution_count": 14,
   "metadata": {},
   "outputs": [],
   "source": [
    "def main(log_file):\n",
    "    file = open(\"C:/Users/shenxudong3/Desktop/项目文件/互娱文件/统计数据.txt\", encoding='gbk')\n",
    "    # datastruct dict date>plaatform> prepaid_nums,prepaid_amt,prepaid_accounts(list)\n",
    "    data_dict = {}\n",
    "    for idx, line in tqdm.tqdm_notebook(enumerate(file.readlines())):\n",
    "    # check the line is Prepaid line \n",
    "        if \"Prepaid\" in line:\n",
    "            tmp_date = line.split(']')[0][13:23]\n",
    "            try:\n",
    "                tmp_json = json.loads(line.split(']')[2][1:])\n",
    "            except json.JSONDecodeError as e:\n",
    "                print(f'except:{e} and this line is {line}')\n",
    "\n",
    "            data_dict.setdefault(tmp_date,{})\n",
    "            data_dict[tmp_date].setdefault(tmp_json['os_name'],{})\n",
    "            data_dict[tmp_date].setdefault('全部平台',{})\n",
    "\n",
    "            data_dict[tmp_date][tmp_json['os_name']].setdefault('prepaid_nums',0)\n",
    "            data_dict[tmp_date][tmp_json['os_name']].setdefault('prepaid_amt',0)\n",
    "            data_dict[tmp_date][tmp_json['os_name']].setdefault('prepaid_accounts',[])\n",
    "            data_dict[tmp_date]['全部平台'].setdefault('prepaid_nums',0)\n",
    "            data_dict[tmp_date]['全部平台'].setdefault('prepaid_amt',0)\n",
    "            data_dict[tmp_date]['全部平台'].setdefault('prepaid_accounts',[])\n",
    "\n",
    "            data_dict[tmp_date][tmp_json['os_name']]['prepaid_nums']+=1\n",
    "            data_dict[tmp_date][tmp_json['os_name']]['prepaid_amt']+=float(tmp_json['cash'])\n",
    "            data_dict[tmp_date][tmp_json['os_name']]['prepaid_accounts'].append(tmp_json['account_id'])\n",
    "\n",
    "            data_dict[tmp_date]['全部平台']['prepaid_nums']+=1\n",
    "            data_dict[tmp_date]['全部平台']['prepaid_amt']+=float(tmp_json['cash'])\n",
    "            data_dict[tmp_date]['全部平台']['prepaid_accounts'].append(tmp_json['account_id'])        \n",
    "        else:\n",
    "            continue\n",
    "    file.close()\n",
    "\n",
    "    # print the out \n",
    "    print('日期     平台      充值记录数    充值金额    充值帐号数')\n",
    "    print('-------- ----      ----------    --------    ----------')\n",
    "    for date in data_dict.keys():\n",
    "        for platform in data_dict[date].keys():\n",
    "            print(f\"{date}     {platform}     {data_dict[date][platform]['prepaid_nums']}     {data_dict[date][platform]['prepaid_amt']}     {len(set(data_dict[date][platform]['prepaid_accounts']))}\")"
   ]
  },
  {
   "cell_type": "code",
   "execution_count": 15,
   "metadata": {},
   "outputs": [
    {
     "data": {
      "application/vnd.jupyter.widget-view+json": {
       "model_id": "0dc8344d432443aa84e4b3d311d63901",
       "version_major": 2,
       "version_minor": 0
      },
      "text/plain": [
       "HBox(children=(IntProgress(value=1, bar_style='info', max=1), HTML(value='')))"
      ]
     },
     "metadata": {},
     "output_type": "display_data"
    },
    {
     "name": "stdout",
     "output_type": "stream",
     "text": [
      "except:Expecting ',' delimiter: line 2 column 1 (char 123) and this line is xxxxxxxxxx: [2019-07-16 22:44:41][Prepaid],{\"os_name\":\"苹果\", \"server\":10001, \"role_id\":\"role_3201661260\", \"account_id\":\"aid_106941901@37wan.win.163.com\", \"cash\":360.0\n",
      "\n",
      "except:Expecting value: line 1 column 2 (char 1) and this line is xxxxxxxxxx: [2019-07-16 22:44:47][Prepaid]  ,{\"os_name\":\"苹果\", \"server\":10003, \"role_id\":\"role_3203033353\", \"account_id\":\"aid_1114169872@37wan.win.163.com\", \"cash\":24.0}\n",
      "\n",
      "except:Expecting property name enclosed in double quotes: line 1 column 110 (char 109) and this line is xxxxxxxxxx: [2019-07-16 22:45:12][Prepaid],{\"os_name\":\"安卓\", \"server\":null, \"role_id\":\"role_3206940509\", \"account_id\":\"aid_111416207@37wan.win.163.com\", cash:336.0}\n",
      "\n",
      "\n",
      "日期     平台      充值记录数    充值金额    充值帐号数\n",
      "-------- ----      ----------    --------    ----------\n",
      "2019-07-14     苹果     750     391695.576     618\n",
      "2019-07-14     全部平台     1518     752407.696     1241\n",
      "2019-07-14     安卓     624     225407.024     518\n",
      "2019-07-14     pc模拟器     144     135305.096     107\n",
      "2019-07-15     苹果     3459     1595262.904000001     2437\n",
      "2019-07-15     全部平台     6781     3090760.807999998     4744\n",
      "2019-07-15     pc模拟器     402     294230.848     289\n",
      "2019-07-15     安卓     2920     1201267.0560000003     2054\n",
      "2019-07-16     安卓     2813     1291193.9039999999     1885\n",
      "2019-07-16     全部平台     6530     3140090.4000000004     4351\n",
      "2019-07-16     苹果     3263     1552949.216     2187\n",
      "2019-07-16     pc模拟器     454     295947.27999999997     320\n",
      "2019-07-17     安卓     1572     678200.1279999999     1188\n",
      "2019-07-17     全部平台     3702     1896509.6240000003     2764\n",
      "2019-07-17     苹果     1886     1018240.672     1417\n",
      "2019-07-17     pc模拟器     244     200068.824     184\n"
     ]
    }
   ],
   "source": [
    "main(file)"
   ]
  },
  {
   "cell_type": "code",
   "execution_count": 2,
   "metadata": {},
   "outputs": [],
   "source": [
    "# 数据结构设计\n",
    "# date>plaatform> prepaid_nums,prepaid_amt,prepaid_accounts(list)\n",
    "data_dict = {}"
   ]
  },
  {
   "cell_type": "code",
   "execution_count": 3,
   "metadata": {},
   "outputs": [],
   "source": [
    "file = open(\"C:/Users/shenxudong3/Desktop/项目文件/互娱文件/统计数据.txt\")"
   ]
  },
  {
   "cell_type": "code",
   "execution_count": 14,
   "metadata": {},
   "outputs": [
    {
     "name": "stdout",
     "output_type": "stream",
     "text": [
      "[('2019', '20', '07', '1')]\n"
     ]
    }
   ],
   "source": [
    "pattern = re.compile(r'((19|20)\\d{2})-(0?[13578]|1[02])-(0?[1-9]|[12]\\d|3[01])')#定义匹配模式\n",
    "\n",
    "print(re.findall(pattern,line))"
   ]
  },
  {
   "cell_type": "code",
   "execution_count": 4,
   "metadata": {},
   "outputs": [
    {
     "data": {
      "application/vnd.jupyter.widget-view+json": {
       "model_id": "01c6661f032d400282e53e7482c8b088",
       "version_major": 2,
       "version_minor": 0
      },
      "text/plain": [
       "HBox(children=(IntProgress(value=1, bar_style='info', max=1), HTML(value='')))"
      ]
     },
     "metadata": {},
     "output_type": "display_data"
    },
    {
     "name": "stdout",
     "output_type": "stream",
     "text": [
      "except:Expecting ',' delimiter: line 2 column 1 (char 123) and this line is xxxxxxxxxx: [2019-07-16 22:44:41][Prepaid],{\"os_name\":\"苹果\", \"server\":10001, \"role_id\":\"role_3201661260\", \"account_id\":\"aid_106941901@37wan.win.163.com\", \"cash\":360.0\n",
      "\n",
      "except:Expecting value: line 1 column 2 (char 1) and this line is xxxxxxxxxx: [2019-07-16 22:44:47][Prepaid]  ,{\"os_name\":\"苹果\", \"server\":10003, \"role_id\":\"role_3203033353\", \"account_id\":\"aid_1114169872@37wan.win.163.com\", \"cash\":24.0}\n",
      "\n",
      "except:Expecting property name enclosed in double quotes: line 1 column 110 (char 109) and this line is xxxxxxxxxx: [2019-07-16 22:45:12][Prepaid],{\"os_name\":\"安卓\", \"server\":null, \"role_id\":\"role_3206940509\", \"account_id\":\"aid_111416207@37wan.win.163.com\", cash:336.0}\n",
      "\n",
      "\n"
     ]
    }
   ],
   "source": [
    "data_dict = {}\n",
    "for idx, line in tqdm.tqdm_notebook(enumerate(file.readlines())):\n",
    "#     print(line)\n",
    "    # 检查改行是否是充值行\n",
    "    if \"Prepaid\" in line:\n",
    "        tmp_date = line.split(']')[0][13:23]\n",
    "        try:\n",
    "            tmp_json = json.loads(line.split(']')[2][1:])\n",
    "        except json.JSONDecodeError as e:\n",
    "            print(f'except:{e} and this line is {line}')\n",
    "            \n",
    "        data_dict.setdefault(tmp_date,{})\n",
    "        data_dict[tmp_date].setdefault(tmp_json['os_name'],{})\n",
    "        data_dict[tmp_date].setdefault('全部平台',{})\n",
    "        \n",
    "        data_dict[tmp_date][tmp_json['os_name']].setdefault('prepaid_nums',0)\n",
    "        data_dict[tmp_date][tmp_json['os_name']].setdefault('prepaid_amt',0)\n",
    "        data_dict[tmp_date][tmp_json['os_name']].setdefault('prepaid_accounts',[])\n",
    "        data_dict[tmp_date]['全部平台'].setdefault('prepaid_nums',0)\n",
    "        data_dict[tmp_date]['全部平台'].setdefault('prepaid_amt',0)\n",
    "        data_dict[tmp_date]['全部平台'].setdefault('prepaid_accounts',[])\n",
    "        \n",
    "        data_dict[tmp_date][tmp_json['os_name']]['prepaid_nums']+=1\n",
    "        data_dict[tmp_date][tmp_json['os_name']]['prepaid_amt']+=float(tmp_json['cash'])\n",
    "        data_dict[tmp_date][tmp_json['os_name']]['prepaid_accounts'].append(tmp_json['account_id'])\n",
    "        \n",
    "        data_dict[tmp_date]['全部平台']['prepaid_nums']+=1\n",
    "        data_dict[tmp_date]['全部平台']['prepaid_amt']+=float(tmp_json['cash'])\n",
    "        data_dict[tmp_date]['全部平台']['prepaid_accounts'].append(tmp_json['account_id'])        \n",
    "    else:\n",
    "        continue\n",
    "file.close()"
   ]
  },
  {
   "cell_type": "code",
   "execution_count": 12,
   "metadata": {},
   "outputs": [
    {
     "name": "stdout",
     "output_type": "stream",
     "text": [
      "日期     平台      充值记录数    充值金额    充值帐号数\n",
      "-------- ----      ----------    --------    ----------\n",
      "2019-07-14     苹果     750     391695.576     618\n",
      "2019-07-14     全部平台     1518     752407.696     1241\n",
      "2019-07-14     安卓     624     225407.024     518\n",
      "2019-07-14     pc模拟器     144     135305.096     107\n",
      "2019-07-15     苹果     3459     1595262.904000001     2437\n",
      "2019-07-15     全部平台     6781     3090760.807999998     4744\n",
      "2019-07-15     pc模拟器     402     294230.848     289\n",
      "2019-07-15     安卓     2920     1201267.0560000003     2054\n",
      "2019-07-16     安卓     2813     1291193.9039999999     1885\n",
      "2019-07-16     全部平台     6530     3140090.4000000004     4351\n",
      "2019-07-16     苹果     3263     1552949.216     2187\n",
      "2019-07-16     pc模拟器     454     295947.27999999997     320\n",
      "2019-07-17     安卓     1572     678200.1279999999     1188\n",
      "2019-07-17     全部平台     3702     1896509.6240000003     2764\n",
      "2019-07-17     苹果     1886     1018240.672     1417\n",
      "2019-07-17     pc模拟器     244     200068.824     184\n"
     ]
    }
   ],
   "source": [
    "print('日期     平台      充值记录数    充值金额    充值帐号数')\n",
    "print('-------- ----      ----------    --------    ----------')\n",
    "for date in data_dict.keys():\n",
    "    for platform in data_dict[date].keys():\n",
    "        print(f\"{date}     {platform}     {data_dict[date][platform]['prepaid_nums']}     {data_dict[date][platform]['prepaid_amt']}     {len(set(data_dict[date][platform]['prepaid_accounts']))}\")"
   ]
  },
  {
   "cell_type": "code",
   "execution_count": null,
   "metadata": {},
   "outputs": [],
   "source": [
    "1. 获得输入文件，检查输入文件的存在\n",
    "2. 读取文件 数据结构的设计\n",
    "3. 针对错误行的报错\n",
    "4. 输入最终结果，并且保存结果内容。"
   ]
  }
 ],
 "metadata": {
  "kernelspec": {
   "display_name": "Python 3",
   "language": "python",
   "name": "python3"
  },
  "language_info": {
   "codemirror_mode": {
    "name": "ipython",
    "version": 3
   },
   "file_extension": ".py",
   "mimetype": "text/x-python",
   "name": "python",
   "nbconvert_exporter": "python",
   "pygments_lexer": "ipython3",
   "version": "3.7.1"
  }
 },
 "nbformat": 4,
 "nbformat_minor": 2
}
