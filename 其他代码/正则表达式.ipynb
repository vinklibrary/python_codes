{
 "cells": [
  {
   "cell_type": "code",
   "execution_count": 7,
   "metadata": {},
   "outputs": [],
   "source": [
    "import re\n",
    "import json"
   ]
  },
  {
   "cell_type": "code",
   "execution_count": null,
   "metadata": {},
   "outputs": [],
   "source": [
    "pattern = ''"
   ]
  },
  {
   "cell_type": "code",
   "execution_count": null,
   "metadata": {},
   "outputs": [],
   "source": [
    "re.match(pattern, string, flags=0)"
   ]
  },
  {
   "cell_type": "code",
   "execution_count": 3,
   "metadata": {},
   "outputs": [],
   "source": [
    "strings = '/home/g4/log/gamestatistic/G4_GameStatistic.log Jun  4 01:01:03 g4-gm-10007 G4_GameStatistic: [2018-06-04 01:01:03][PlayJoin],{\"finish_type\": 1, \"cost_time\": 0, \"account_id\": \"393830138@ad.360_assistant.win.163.com\", \"sysid\": 208, \"n_account_id\": \"\", \"battle_info\": {}, \"app_channel\": \"360_assistant\", \"role_id\": \"676737\", \"t_when\": 1528045263, \"gain_items\": \"5b141ecf4978b276be45170f\", \"is_first\": 0, \"explore_type\": 1, \"assess_lv\": 0, \"VIP_level\": 8, \"role_name\": \"名扬?天下\", \"server\": \"3049\", \"zdl\": 310111, \"role_level\": 100, \"stage\": 2}'"
   ]
  },
  {
   "cell_type": "code",
   "execution_count": 5,
   "metadata": {},
   "outputs": [
    {
     "data": {
      "text/plain": [
       "126"
      ]
     },
     "execution_count": 5,
     "metadata": {},
     "output_type": "execute_result"
    }
   ],
   "source": [
    "strings.index('{')"
   ]
  },
  {
   "cell_type": "code",
   "execution_count": 6,
   "metadata": {},
   "outputs": [
    {
     "data": {
      "text/plain": [
       "'{\"finish_type\": 1, \"cost_time\": 0, \"account_id\": \"393830138@ad.360_assistant.win.163.com\", \"sysid\": 208, \"n_account_id\": \"\", \"battle_info\": {}, \"app_channel\": \"360_assistant\", \"role_id\": \"676737\", \"t_when\": 1528045263, \"gain_items\": \"5b141ecf4978b276be45170f\", \"is_first\": 0, \"explore_type\": 1, \"assess_lv\": 0, \"VIP_level\": 8, \"role_name\": \"名扬?天下\", \"server\": \"3049\", \"zdl\": 310111, \"role_level\": 100, \"stage\": 2}'"
      ]
     },
     "execution_count": 6,
     "metadata": {},
     "output_type": "execute_result"
    }
   ],
   "source": [
    "strings[126:]"
   ]
  },
  {
   "cell_type": "code",
   "execution_count": 11,
   "metadata": {},
   "outputs": [
    {
     "data": {
      "text/plain": [
       "{'finish_type': 1,\n",
       " 'cost_time': 0,\n",
       " 'account_id': '393830138@ad.360_assistant.win.163.com',\n",
       " 'sysid': 208,\n",
       " 'n_account_id': '',\n",
       " 'battle_info': {},\n",
       " 'app_channel': '360_assistant',\n",
       " 'role_id': '676737',\n",
       " 't_when': 1528045263,\n",
       " 'gain_items': '5b141ecf4978b276be45170f',\n",
       " 'is_first': 0,\n",
       " 'explore_type': 1,\n",
       " 'assess_lv': 0,\n",
       " 'VIP_level': 8,\n",
       " 'role_name': '名扬?天下',\n",
       " 'server': '3049',\n",
       " 'zdl': 310111,\n",
       " 'role_level': 100,\n",
       " 'stage': 2}"
      ]
     },
     "execution_count": 11,
     "metadata": {},
     "output_type": "execute_result"
    }
   ],
   "source": [
    "json.loads(strings[126:])"
   ]
  },
  {
   "cell_type": "code",
   "execution_count": 10,
   "metadata": {},
   "outputs": [
    {
     "data": {
      "text/plain": [
       "{'finish_type': 1,\n",
       " 'cost_time': 0,\n",
       " 'account_id': '393830138@ad.360_assistant.win.163.com',\n",
       " 'sysid': 208,\n",
       " 'n_account_id': '',\n",
       " 'battle_info': {},\n",
       " 'app_channel': '360_assistant',\n",
       " 'role_id': '676737',\n",
       " 't_when': 1528045263,\n",
       " 'gain_items': '5b141ecf4978b276be45170f',\n",
       " 'is_first': 0,\n",
       " 'explore_type': 1,\n",
       " 'assess_lv': 0,\n",
       " 'VIP_level': 8,\n",
       " 'role_name': '名扬?天下',\n",
       " 'server': '3049',\n",
       " 'zdl': 310111,\n",
       " 'role_level': 100,\n",
       " 'stage': 2}"
      ]
     },
     "execution_count": 10,
     "metadata": {},
     "output_type": "execute_result"
    }
   ],
   "source": [
    "json.loads('{\"finish_type\": 1, \"cost_time\": 0, \"account_id\": \"393830138@ad.360_assistant.win.163.com\", \"sysid\": 208, \"n_account_id\": \"\", \"battle_info\": {}, \"app_channel\": \"360_assistant\", \"role_id\": \"676737\", \"t_when\": 1528045263, \"gain_items\": \"5b141ecf4978b276be45170f\", \"is_first\": 0, \"explore_type\": 1, \"assess_lv\": 0, \"VIP_level\": 8, \"role_name\": \"名扬?天下\", \"server\": \"3049\", \"zdl\": 310111, \"role_level\": 100, \"stage\": 2}')"
   ]
  },
  {
   "cell_type": "code",
   "execution_count": null,
   "metadata": {},
   "outputs": [],
   "source": []
  }
 ],
 "metadata": {
  "kernelspec": {
   "display_name": "Python 3",
   "language": "python",
   "name": "python3"
  },
  "language_info": {
   "codemirror_mode": {
    "name": "ipython",
    "version": 3
   },
   "file_extension": ".py",
   "mimetype": "text/x-python",
   "name": "python",
   "nbconvert_exporter": "python",
   "pygments_lexer": "ipython3",
   "version": "3.7.1"
  }
 },
 "nbformat": 4,
 "nbformat_minor": 2
}
