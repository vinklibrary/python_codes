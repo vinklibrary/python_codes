{
 "cells": [
  {
   "cell_type": "markdown",
   "metadata": {},
   "source": [
    "# 简单的爬虫爬去基金以及净值数据"
   ]
  },
  {
   "cell_type": "code",
   "execution_count": 3,
   "metadata": {},
   "outputs": [
    {
     "name": "stdout",
     "output_type": "stream",
     "text": [
      "8419\n"
     ]
    }
   ],
   "source": [
    "import requests\n",
    "import time\n",
    "import execjs\n",
    "\n",
    "\n",
    "def getUrl(fscode):\n",
    "    head = 'http://fund.eastmoney.com/pingzhongdata/'\n",
    "    tail = '.js?v=' + time.strftime(\"%Y%m%d%H%M%S\", time.localtime())\n",
    "\n",
    "    return head + fscode + tail\n",
    "\n",
    "\n",
    "def getWorth(fscode):\n",
    "    # 用requests获取到对应的文件\n",
    "    content = requests.get(getUrl(fscode))\n",
    "\n",
    "    # 使用execjs获取到相应的数据\n",
    "    jsContent = execjs.compile(content.text)\n",
    "    name = jsContent.eval('fS_name')\n",
    "    code = jsContent.eval('fS_code')\n",
    "    # 单位净值走势\n",
    "    netWorthTrend = jsContent.eval('Data_netWorthTrend')\n",
    "    # 累计净值走势\n",
    "    ACWorthTrend = jsContent.eval('Data_ACWorthTrend')\n",
    "\n",
    "    netWorth = []\n",
    "    ACWorth = []\n",
    "\n",
    "    # 提取出里面的净值\n",
    "    for dayWorth in netWorthTrend[::-1]:\n",
    "        netWorth.append(dayWorth['y'])\n",
    "\n",
    "    for dayACWorth in ACWorthTrend[::-1]:\n",
    "        ACWorth.append(dayACWorth[1])\n",
    "    print(name, code)\n",
    "    return netWorth, ACWorth\n",
    "\n",
    "def getAllCode():\n",
    "    url = 'http://fund.eastmoney.com/js/fundcode_search.js'\n",
    "    content = requests.get(url)\n",
    "    jsContent = execjs.compile(content.text)\n",
    "    rawData = jsContent.eval('r')\n",
    "    allCode = []\n",
    "    for code in rawData:\n",
    "        allCode.append(code[0])\n",
    "    return allCode\n",
    "\n",
    "if __name__ == '__main__':\n",
    "    allCode = getAllCode()\n",
    "    print(len(allCode))"
   ]
  },
  {
   "cell_type": "code",
   "execution_count": null,
   "metadata": {},
   "outputs": [],
   "source": [
    "# 需要爬取更多的基金数据，以做fe"
   ]
  }
 ],
 "metadata": {
  "kernelspec": {
   "display_name": "Python 3",
   "language": "python",
   "name": "python3"
  },
  "language_info": {
   "codemirror_mode": {
    "name": "ipython",
    "version": 3
   },
   "file_extension": ".py",
   "mimetype": "text/x-python",
   "name": "python",
   "nbconvert_exporter": "python",
   "pygments_lexer": "ipython3",
   "version": "3.7.1"
  }
 },
 "nbformat": 4,
 "nbformat_minor": 2
}
