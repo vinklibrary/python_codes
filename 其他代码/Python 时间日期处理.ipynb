{
 "cells": [
  {
   "cell_type": "code",
   "execution_count": 1,
   "metadata": {},
   "outputs": [],
   "source": [
    "import time\n",
    "import datetime"
   ]
  },
  {
   "cell_type": "markdown",
   "metadata": {},
   "source": [
    "## 按月获得时间数组"
   ]
  },
  {
   "cell_type": "code",
   "execution_count": 8,
   "metadata": {},
   "outputs": [
    {
     "data": {
      "text/plain": [
       "DatetimeIndex(['2018-01-01', '2018-02-01', '2018-03-01', '2018-04-01',\n",
       "               '2018-05-01', '2018-06-01', '2018-07-01', '2018-08-01',\n",
       "               '2018-09-01', '2018-10-01', '2018-11-01', '2018-12-01',\n",
       "               '2019-01-01', '2019-02-01', '2019-03-01', '2019-04-01'],\n",
       "              dtype='datetime64[ns]', freq='MS')"
      ]
     },
     "execution_count": 8,
     "metadata": {},
     "output_type": "execute_result"
    }
   ],
   "source": [
    "import pandas as pd\n",
    "pd.date_range('2018-01-01','2019-04-01',freq='MS')"
   ]
  },
  {
   "cell_type": "markdown",
   "metadata": {},
   "source": [
    "## 时间戳改日期"
   ]
  },
  {
   "cell_type": "code",
   "execution_count": 9,
   "metadata": {},
   "outputs": [
    {
     "data": {
      "text/plain": [
       "'2019-04-02 00:00:00'"
      ]
     },
     "execution_count": 9,
     "metadata": {},
     "output_type": "execute_result"
    }
   ],
   "source": [
    "import time\n",
    "st = time.localtime(1554134400)\n",
    "time.strftime(\"%Y-%m-%d %H:%M:%S\", st)"
   ]
  },
  {
   "cell_type": "markdown",
   "metadata": {},
   "source": [
    "## 获得当前的时间字符串"
   ]
  },
  {
   "cell_type": "code",
   "execution_count": 10,
   "metadata": {},
   "outputs": [],
   "source": [
    "from datetime import datetime\n",
    "date = datetime.strftime(datetime.now(),'%Y-%m-%d')"
   ]
  },
  {
   "cell_type": "markdown",
   "metadata": {},
   "source": [
    "## 计算两个日期相差天数，自定义函数名，和两个日期的变量名。 小的在前面"
   ]
  },
  {
   "cell_type": "code",
   "execution_count": 2,
   "metadata": {},
   "outputs": [],
   "source": [
    "def Caltime(date1,date2):\n",
    "    if type(date1)!=str or type(date2)!=str:\n",
    "        return -1\n",
    "    if date1 ==\"\\\\N\" or date2==\"\\\\N\":\n",
    "        return -1\n",
    "    date1=time.strptime(date1,\"%Y-%m-%d\")\n",
    "    date2=time.strptime(date2,\"%Y-%m-%d\")\n",
    "    date1=datetime.datetime(date1[0],date1[1],date1[2])\n",
    "    date2=datetime.datetime(date2[0],date2[1],date2[2])\n",
    "    #返回两个变量相差的值，就是相差天数\n",
    "    return (date2-date1).days"
   ]
  },
  {
   "cell_type": "markdown",
   "metadata": {},
   "source": [
    "## 获得n天前的日期"
   ]
  },
  {
   "cell_type": "code",
   "execution_count": 4,
   "metadata": {},
   "outputs": [],
   "source": [
    "def get_date_before(date1, days):\n",
    "    date1=time.strptime(date1,\"%Y-%m-%d\")\n",
    "    date1=datetime.datetime(date1[0],date1[1],date1[2])\n",
    "    return str(date1-datetime.timedelta(days=days))[0:10]\n",
    "\n",
    "def get_date_after(date1, days):\n",
    "    date1=time.strptime(date1,\"%Y-%m-%d\")\n",
    "    date1=datetime.datetime(date1[0],date1[1],date1[2])\n",
    "    return str(date1+datetime.timedelta(days=days))[0:10]"
   ]
  },
  {
   "cell_type": "markdown",
   "metadata": {},
   "source": [
    "## 计算两个月份之间相差几个月 mon1>mon2"
   ]
  },
  {
   "cell_type": "code",
   "execution_count": 5,
   "metadata": {},
   "outputs": [],
   "source": [
    "def CalMon(mon1,mon2):\n",
    "    mon1_y = int(mon1[0:4])\n",
    "    mon1_m = int(mon1[5:7])\n",
    "    mon2_y = int(mon2[0:4])\n",
    "    mon2_m = int(mon2[5:7])\n",
    "    return (mon1_y-mon2_y)*12+(mon1_m-mon2_m)"
   ]
  },
  {
   "cell_type": "markdown",
   "metadata": {},
   "source": [
    "## 获得当前日期n个月前的时间"
   ]
  },
  {
   "cell_type": "code",
   "execution_count": 6,
   "metadata": {},
   "outputs": [],
   "source": [
    "def get_month_before(tmp_auditing_date,num):\n",
    "    month_days = [0,31,28,31,30,31,30,31,31,30,31,30,31]\n",
    "    if int(tmp_auditing_date[5:7]) <= num:\n",
    "        month = 12-num+int(tmp_auditing_date[5:7])\n",
    "        day = int(tmp_auditing_date[8:10]) if int(tmp_auditing_date[8:10])<=month_days[month] else month_days[month]\n",
    "        before_date = datetime.date(int(tmp_auditing_date[0:4])-1,12-num+int(tmp_auditing_date[5:7]),day)\n",
    "    else:\n",
    "        month = int(tmp_auditing_date[5:7]) - num\n",
    "        day = int(tmp_auditing_date[8:10]) if int(tmp_auditing_date[8:10])<=month_days[month] else month_days[month]\n",
    "        before_date = datetime.date(int(tmp_auditing_date[0:4]),int(tmp_auditing_date[5:7]) - num,day)\n",
    "    return str(before_date)"
   ]
  },
  {
   "cell_type": "markdown",
   "metadata": {},
   "source": [
    "## 获得星期几"
   ]
  },
  {
   "cell_type": "code",
   "execution_count": 7,
   "metadata": {},
   "outputs": [],
   "source": [
    "def get_day_of_week(date1):\n",
    "    date1 = datetime.date(int(date1[0:4]),int(date1[5:7]),int(date1[8:10]))\n",
    "    return date1.weekday()"
   ]
  }
 ],
 "metadata": {
  "kernelspec": {
   "display_name": "Python 3",
   "language": "python",
   "name": "python3"
  },
  "language_info": {
   "codemirror_mode": {
    "name": "ipython",
    "version": 3
   },
   "file_extension": ".py",
   "mimetype": "text/x-python",
   "name": "python",
   "nbconvert_exporter": "python",
   "pygments_lexer": "ipython3",
   "version": "3.7.1"
  }
 },
 "nbformat": 4,
 "nbformat_minor": 2
}
