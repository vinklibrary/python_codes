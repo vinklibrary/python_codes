{
 "cells": [
  {
   "cell_type": "markdown",
   "metadata": {},
   "source": [
    "# 爬楼梯\n",
    "假设你正在爬楼梯。需要 n 阶你才能到达楼顶。\n",
    "\n",
    "每次你可以爬 1 或 2 个台阶。你有多少种不同的方法可以爬到楼顶呢？\n",
    "\n",
    "注意：给定 n 是一个正整数。"
   ]
  },
  {
   "cell_type": "code",
   "execution_count": 1,
   "metadata": {},
   "outputs": [],
   "source": [
    "class Solution:\n",
    "#     def climbStairs(self, n: int) -> int:\n",
    "#         if n==0: return 0\n",
    "#         if n==1: return 1\n",
    "#         if n==2: return 2\n",
    "#         return self.climbStairs(n-2) + self.climbStairs(n-1)\n",
    "    \n",
    "    def climbStairs(self, n: int) -> int:\n",
    "        if n==0: return 0\n",
    "        if n==1: return 1\n",
    "        steps = [0]*(n+1)\n",
    "        steps[1] = 1\n",
    "        steps[2] = 2\n",
    "        for i in range(3,n+1):\n",
    "            steps[i] = steps[i-1] + steps[i-2]\n",
    "        return steps[n]"
   ]
  },
  {
   "cell_type": "code",
   "execution_count": null,
   "metadata": {},
   "outputs": [],
   "source": []
  }
 ],
 "metadata": {
  "kernelspec": {
   "display_name": "Python 3",
   "language": "python",
   "name": "python3"
  },
  "language_info": {
   "codemirror_mode": {
    "name": "ipython",
    "version": 3
   },
   "file_extension": ".py",
   "mimetype": "text/x-python",
   "name": "python",
   "nbconvert_exporter": "python",
   "pygments_lexer": "ipython3",
   "version": "3.7.3"
  }
 },
 "nbformat": 4,
 "nbformat_minor": 2
}
