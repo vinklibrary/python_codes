{
 "cells": [
  {
   "cell_type": "code",
   "execution_count": 1,
   "metadata": {},
   "outputs": [],
   "source": [
    "#libraries"
   ]
  },
  {
   "cell_type": "code",
   "execution_count": null,
   "metadata": {},
   "outputs": [],
   "source": [
    "class SortAlgorithms():\n",
    "    def __init__(self):\n",
    "        self.exch_nums = 0\n",
    "        self.comp_nums = 0\n",
    "        self.start_time = time()\n",
    "        self.end_time = None\n",
    "        \n",
    "    def __exch__(self, input_array, i, j):\n",
    "        input_array[i],input_array[j] = input_array[j],input_array[i] \n",
    "#         temp = input_array[i]\n",
    "#         input_array[i] = input_array[j]\n",
    "#         input_array[j] = temp\n",
    "        self.exch_nums+=1\n",
    "        \n",
    "    def __print_info__(self):\n",
    "        pass\n",
    "    \n",
    "    def SelectSort(self, arr):\n",
    "        self.__init__()\n",
    "        length = len(arr)\n",
    "        for i in range(length):\n",
    "            min_index = i\n",
    "            for j in range(i+1,length):\n",
    "                if arr[j] < arr[min_index]:\n",
    "                    min_index = j\n",
    "            arr[i], arr[min_index] = arr[min_index], arr[i]\n",
    "        # 输出交换次数， 比较次数， 数组长度， 运行时间\n",
    "        self.__print_info__()\n",
    "        return arr\n",
    "                \n",
    "    def InsertSort(self, input_array):\n",
    "        self.__init__()\n",
    "        pass\n",
    "        \n",
    "    \n",
    "    def BubbleSort(self, input_array):\n",
    "        self.__init__()\n",
    "        length = len(input_array)\n",
    "        for i in range(length-1):\n",
    "            is_sorted = True\n",
    "            for j in range(length-1-i):\n",
    "                if input_array[j]>input_array[j+1]:\n",
    "                    self.comp_nums+=1\n",
    "                    self.__exch__(input_array,j,j+1)\n",
    "                    is_sorted = False\n",
    "            if is_sorted:\n",
    "                break\n",
    "        # 输出交换次数，比较次数，数组长度，运行时间\n",
    "        self.__print_info__()\n",
    "        return input_array\n",
    "    \n",
    "    def quick_sort():\n",
    "        pass"
   ]
  },
  {
   "cell_type": "code",
   "execution_count": null,
   "metadata": {},
   "outputs": [],
   "source": []
  }
 ],
 "metadata": {
  "kernelspec": {
   "display_name": "Python 3",
   "language": "python",
   "name": "python3"
  },
  "language_info": {
   "codemirror_mode": {
    "name": "ipython",
    "version": 3
   },
   "file_extension": ".py",
   "mimetype": "text/x-python",
   "name": "python",
   "nbconvert_exporter": "python",
   "pygments_lexer": "ipython3",
   "version": "3.7.3"
  }
 },
 "nbformat": 4,
 "nbformat_minor": 2
}
