{
 "cells": [
  {
   "cell_type": "markdown",
   "metadata": {},
   "source": [
    "# 每十个百分点召回下的准确率"
   ]
  },
  {
   "cell_type": "code",
   "execution_count": 1,
   "metadata": {},
   "outputs": [],
   "source": [
    "#todo"
   ]
  },
  {
   "cell_type": "markdown",
   "metadata": {},
   "source": [
    "# 将概率换算成信用分"
   ]
  },
  {
   "cell_type": "code",
   "execution_count": 1,
   "metadata": {},
   "outputs": [],
   "source": [
    "def score_card_cal(pred,intercept=700,pred_cut=0.01,pdo=25):\n",
    "    import numpy as np\n",
    "    B = pdo/np.log(2)\n",
    "    A = intercept + B*log(pred_cut/(1-pred_cut))\n",
    "    return  int(A-B*np.log(pred/(1-pred)))"
   ]
  },
  {
   "cell_type": "markdown",
   "metadata": {},
   "source": [
    "# 计算AUC 绘制ROC曲线"
   ]
  },
  {
   "cell_type": "code",
   "execution_count": 1,
   "metadata": {},
   "outputs": [],
   "source": [
    "from sklearn.metrics import roc_auc_score\n",
    "# 直接使用sklearn就可以"
   ]
  },
  {
   "cell_type": "code",
   "execution_count": null,
   "metadata": {},
   "outputs": [],
   "source": [
    "#ROC曲线\n",
    "def Roc_Curve(y_true,y_pre,have_auc=False):\n",
    "    '''df as gbie p'''\n",
    "    from sklearn import metrics\n",
    "    fpr_lst,tpr_lst=metrics.roc_curve(y_true,y_pre)[:2]\n",
    "    auc=metrics.auc(fpr_lst,tpr_lst)\n",
    "    roc_curve=pd.DataFrame(np.array([tpr_lst,fpr_lst]).T,columns=[\"Sensitivity\",\"1-Specificity\"])\n",
    "    roc_curve=roc_curve.drop_duplicates(\"1-Specificity\")\n",
    "    roc_curve.plot('1-Specificity','Sensitivity',\\\n",
    "                   title=\"ROC Curve \\n AUC=%s\" % str(auc))\n",
    "    if have_auc:\n",
    "        return auc,roc_curve"
   ]
  },
  {
   "cell_type": "markdown",
   "metadata": {},
   "source": [
    "# 计算KS值 并绘图"
   ]
  },
  {
   "cell_type": "code",
   "execution_count": null,
   "metadata": {},
   "outputs": [],
   "source": [
    "#KS曲线\n",
    "def KS(y_true,y_pre,group_sep=0.01):\n",
    "    from copy import deepcopy\n",
    "    import matplotlib.pyplot as plt\n",
    "    plt.style.use('ggplot')\n",
    "    '''df as gbie p'''\n",
    "    DfIn=pd.DataFrame([y_true,y_pre]).T\n",
    "    DfIn.columns=['gbie','p']\n",
    "    DfIn=DfIn.sort_values('p',ascending=False)\n",
    "    length=len(DfIn)\n",
    "    group=pd.cut(list(range(length)),bins=1.0/group_sep,labels=np.arange(0+group_sep,1+group_sep,group_sep))\n",
    "    DfIn['group']=list(group)\n",
    "    length_1=sum(DfIn.gbie)\n",
    "    length_0=length-length_1\n",
    "    cum_0=[]\n",
    "    cum_1=[]\n",
    "    for i in sorted(set(group)):\n",
    "        cum_tmp=DfIn.loc[DfIn.group<=i,'gbie']\n",
    "        cum_0.append(float(len(cum_tmp)-sum(cum_tmp))/length_0)\n",
    "        cum_1.append(float(sum(cum_tmp))/length_1)\n",
    "    DfPlot=pd.DataFrame(np.array([sorted(list(set(group))),cum_0,cum_1]).T, \n",
    "                        columns=['Percent','Good','Bad'])\n",
    "    Ks=max(DfPlot.Bad-DfPlot.Good)\n",
    "    argmax=DfPlot.loc[(DfPlot.Bad-DfPlot.Good).argmax(),'Percent']\n",
    "    DfPlot['ks']=DfPlot.Bad-DfPlot.Good\n",
    "    DfPlot.plot('Percent',['Good','Bad','ks'],\\\n",
    "                title='KS Curve\\n ks=%.3f and cut_off=%.2f' % (Ks,argmax))\n",
    "    return plt,Ks"
   ]
  },
  {
   "cell_type": "code",
   "execution_count": null,
   "metadata": {},
   "outputs": [],
   "source": []
  }
 ],
 "metadata": {
  "kernelspec": {
   "display_name": "Python 3",
   "language": "python",
   "name": "python3"
  },
  "language_info": {
   "codemirror_mode": {
    "name": "ipython",
    "version": 3
   },
   "file_extension": ".py",
   "mimetype": "text/x-python",
   "name": "python",
   "nbconvert_exporter": "python",
   "pygments_lexer": "ipython3",
   "version": "3.7.1"
  }
 },
 "nbformat": 4,
 "nbformat_minor": 2
}
