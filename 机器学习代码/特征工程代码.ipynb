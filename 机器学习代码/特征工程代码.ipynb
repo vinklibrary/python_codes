{
 "cells": [
  {
   "cell_type": "code",
   "execution_count": null,
   "metadata": {},
   "outputs": [],
   "source": [
    "# 二分类场景  连续特征分析\n",
    "# 1. 针对连续数值。查看重要性。\n",
    "# 2. 给出特征预处理的建议。\n",
    "\n",
    "def fea_analysic(data, flag, fea):\n",
    "    g = data.groupby(flag)[fea]\n",
    "    s = pd.concat({y:g.apply(lambda x : x.quantile(y)) for y in [0.1,0.2,0.3,0.4,0.5,0.6,0.7,0.8,0.9]},1)\n",
    "    print(\"十分位数变化情况\")\n",
    "    print(s)\n",
    "    print(\"根据标签划分的特征均值情况\")\n",
    "    print(g.mean().reset_index())\n",
    "    print(\"根据标签划分的箱线图\")\n",
    "    sns.boxplot(x = flag, y = fea, data = data, palette = 'Reds')\n",
    "    print(\"根据标签划分的小提琴图\")\n",
    "    sns.violinplot(x = 'isFraud', y = 'card1', data = train,palette = 'hls')\n",
    "    print('对特征进行均值十分桶后进行处理')\n",
    "    \n",
    "    print(\"对特征进行十分位数分桶后进行处理\")\n",
    "    \n",
    "    print(\"该特征的处理建议是：\")"
   ]
  }
 ],
 "metadata": {
  "kernelspec": {
   "display_name": "Python 3",
   "language": "python",
   "name": "python3"
  },
  "language_info": {
   "codemirror_mode": {
    "name": "ipython",
    "version": 3
   },
   "file_extension": ".py",
   "mimetype": "text/x-python",
   "name": "python",
   "nbconvert_exporter": "python",
   "pygments_lexer": "ipython3",
   "version": "3.7.1"
  }
 },
 "nbformat": 4,
 "nbformat_minor": 2
}
