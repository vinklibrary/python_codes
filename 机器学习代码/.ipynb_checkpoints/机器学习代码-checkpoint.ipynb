{
 "cells": [
  {
   "cell_type": "markdown",
   "metadata": {},
   "source": [
    "# LightGBM Demo"
   ]
  },
  {
   "cell_type": "code",
   "execution_count": null,
   "metadata": {},
   "outputs": [],
   "source": []
  },
  {
   "cell_type": "markdown",
   "metadata": {},
   "source": [
    "# Xgboost Demo"
   ]
  },
  {
   "cell_type": "code",
   "execution_count": null,
   "metadata": {},
   "outputs": [],
   "source": []
  },
  {
   "cell_type": "markdown",
   "metadata": {},
   "source": [
    "# 超参数HyperOpt搜索"
   ]
  },
  {
   "cell_type": "code",
   "execution_count": null,
   "metadata": {},
   "outputs": [],
   "source": [
    "from hyperopt import fmin, tpe, hp, partial\n",
    "import lightgbm as lgb\n",
    "# lightgbm 参数\n",
    "train_data = lgb.Dataset(data=train_sample[features],label=train_sample.target)\n",
    "test_data = lgb.Dataset(data=test_sample[features],label=test_sample.target)\n",
    "del train_sample\n",
    "predicted = test_sample.target\n",
    "test_sample = test_sample[features]\n",
    "gc.collect()\n",
    "\n",
    "# 自定义hyperopt的参数空间\n",
    "space = {\"max_depth\": hp.randint(\"max_depth\", 12),\n",
    "         'learning_rate': hp.uniform('learning_rate', 1e-3, 5e-1),\n",
    "         \"bagging_fraction\": hp.randint(\"bagging_fraction\", 10),\n",
    "         \"feature_fraction\":hp.randint('feature_fraction',9),\n",
    "         \"num_leaves\": hp.randint(\"num_leaves\", 20),\n",
    "         }\n",
    "\n",
    "def argsDict_tranform(argsDict, isPrint=False):\n",
    "    argsDict[\"max_depth\"] = argsDict[\"max_depth\"] + 6\n",
    "    argsDict[\"learning_rate\"] = argsDict[\"learning_rate\"] * 0.02 \n",
    "    argsDict[\"bagging_fraction\"] = argsDict[\"bagging_fraction\"] * 0.05 + 0.5\n",
    "    argsDict[\"feature_fraction\"] = argsDict[\"feature_fraction\"] * 0.1 + 0.1\n",
    "    argsDict[\"num_leaves\"] = argsDict[\"num_leaves\"] * 2 + 5\n",
    "    if isPrint:\n",
    "        print(argsDict)\n",
    "    else:\n",
    "        pass\n",
    "\n",
    "    return argsDict\n",
    "\n",
    "from sklearn.metrics import roc_auc_score\n",
    "\n",
    "def lightgbm_factory(argsDict):\n",
    "    argsDict = argsDict_tranform(argsDict)\n",
    "    params = {'nthread': -1,  # 进程数\n",
    "              'max_depth': argsDict['max_depth'],  # 最大深度\n",
    "              'learning_rate': argsDict['learning_rate'],  # 学习率\n",
    "              'bagging_fraction': argsDict['bagging_fraction'],  # 采样数\n",
    "              'num_leaves': argsDict['num_leaves'],  # 终点节点最小样本占比的和\n",
    "              'feature_fraction': argsDict['feature_fraction'],  # 样本列采样\n",
    "              'objective': 'binary',\n",
    "              'lambda_l1': 0,  # L1 正则化\n",
    "              'lambda_l2': 0,  # L2 正则化\n",
    "              'bagging_seed': 100,  # 随机种子,light中默认为100\n",
    "              'verbose':0\n",
    "              }\n",
    "    params['metric'] = ['auc','l2']\n",
    "    model_lgb = lgb.train(params, train_data, num_boost_round=20000, valid_sets=[test_data],early_stopping_rounds=100)\n",
    "    return get_tranformer_score(model_lgb)\n",
    "\n",
    "def get_tranformer_score(tranformer):\n",
    "    model = tranformer\n",
    "    prediction = model.predict(test_sample, num_iteration=model.best_iteration)\n",
    "    return 1-roc_auc_score(predicted, prediction)\n",
    "\n",
    "# 开始使用hyperopt进行自动调参\n",
    "algo = partial(tpe.suggest, n_startup_jobs=1)\n",
    "best = fmin(lightgbm_factory, space, algo=algo, max_evals=200, pass_expr_memo_ctrl=None)\n",
    "\n",
    "# RMSE = lightgbm_factory(best)\n",
    "print('best :', best)\n",
    "print('best param after transform :')\n",
    "argsDict_tranform(best,isPrint=True)\n",
    "# print('rmse of the best lightgbm:', np.sqrt(RMSE))"
   ]
  },
  {
   "cell_type": "code",
   "execution_count": null,
   "metadata": {},
   "outputs": [],
   "source": []
  }
 ],
 "metadata": {
  "kernelspec": {
   "display_name": "Python 3",
   "language": "python",
   "name": "python3"
  },
  "language_info": {
   "codemirror_mode": {
    "name": "ipython",
    "version": 3
   },
   "file_extension": ".py",
   "mimetype": "text/x-python",
   "name": "python",
   "nbconvert_exporter": "python",
   "pygments_lexer": "ipython3",
   "version": "3.7.1"
  }
 },
 "nbformat": 4,
 "nbformat_minor": 2
}
