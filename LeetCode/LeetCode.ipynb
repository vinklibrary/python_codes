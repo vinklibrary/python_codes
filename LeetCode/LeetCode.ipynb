{
 "cells": [
  {
   "cell_type": "code",
   "execution_count": 1,
   "metadata": {},
   "outputs": [],
   "source": [
    "# 无重复字符的最长自串"
   ]
  },
  {
   "cell_type": "code",
   "execution_count": null,
   "metadata": {},
   "outputs": [],
   "source": [
    "class Solution:\n",
    "    def lengthOfLongestSubstring(self, s: str) -> int:\n",
    "        charMap = {}\n",
    "        for i in range(256):\n",
    "            charMap[i] = -1\n",
    "        ls = len(s)\n",
    "        i = max_len = 0\n",
    "        for j in range(ls):\n",
    "            # Note that when charMap[ord(s[j])] >= i, it means that there are\n",
    "            # duplicate character in current i,j. So we need to update i.\n",
    "            if charMap[ord(s[j])] >= i:\n",
    "                i = charMap[ord(s[j])] + 1\n",
    "            charMap[ord(s[j])] = j\n",
    "            max_len = max(max_len, j - i + 1)\n",
    "        return max_len"
   ]
  },
  {
   "cell_type": "code",
   "execution_count": null,
   "metadata": {},
   "outputs": [],
   "source": [
    "# 寻找两个有序数组的中位数"
   ]
  },
  {
   "cell_type": "code",
   "execution_count": null,
   "metadata": {},
   "outputs": [],
   "source": [
    "class Solution:\n",
    "    def findMedianSortedArrays(self, nums1: List[int], nums2: List[int]) -> float:\n",
    "        p1 = p2 = 0\n",
    "        ls1 = len(nums1)\n",
    "        ls2 = len(nums2)\n",
    "        all_nums = []\n",
    "        median = 0.0\n",
    "        while p1 < ls1 and p2 < ls2:\n",
    "            if nums1[p1] < nums2[p2]:\n",
    "                all_nums.append(nums1[p1])\n",
    "                p1 += 1\n",
    "            else:\n",
    "                all_nums.append(nums2[p2])\n",
    "                p2 += 1\n",
    "        if p1 < ls1:\n",
    "            while p1 < ls1:\n",
    "                all_nums.append(nums1[p1])\n",
    "                p1 += 1\n",
    "        if p2 < ls2:\n",
    "            while p2 < ls2:\n",
    "                all_nums.append(nums2[p2])\n",
    "                p2 += 1\n",
    "        # print all_nums\n",
    "        if (ls1 + ls2) % 2 == 1:\n",
    "            median = all_nums[(ls1 + ls2) / 2]\n",
    "        else:\n",
    "            median = 1.0 * (all_nums[(ls1 + ls2) / 2] + all_nums[(ls1 + ls2) / 2 - 1]) / 2\n",
    "        return median"
   ]
  }
 ],
 "metadata": {
  "kernelspec": {
   "display_name": "Python 3",
   "language": "python",
   "name": "python3"
  },
  "language_info": {
   "codemirror_mode": {
    "name": "ipython",
    "version": 3
   },
   "file_extension": ".py",
   "mimetype": "text/x-python",
   "name": "python",
   "nbconvert_exporter": "python",
   "pygments_lexer": "ipython3",
   "version": "3.7.3"
  }
 },
 "nbformat": 4,
 "nbformat_minor": 2
}
