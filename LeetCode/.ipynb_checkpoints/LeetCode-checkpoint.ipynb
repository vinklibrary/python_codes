{
 "cells": [
  {
   "cell_type": "code",
   "execution_count": 1,
   "metadata": {},
   "outputs": [],
   "source": [
    "# 无重复字符的最长自串"
   ]
  },
  {
   "cell_type": "code",
   "execution_count": null,
   "metadata": {},
   "outputs": [],
   "source": [
    "class Solution:\n",
    "    def lengthOfLongestSubstring(self, s: str) -> int:\n",
    "        charMap = {}\n",
    "        for i in range(256):\n",
    "            charMap[i] = -1\n",
    "        ls = len(s)\n",
    "        i = max_len = 0\n",
    "        for j in range(ls):\n",
    "            # Note that when charMap[ord(s[j])] >= i, it means that there are\n",
    "            # duplicate character in current i,j. So we need to update i.\n",
    "            if charMap[ord(s[j])] >= i:\n",
    "                i = charMap[ord(s[j])] + 1\n",
    "            charMap[ord(s[j])] = j\n",
    "            max_len = max(max_len, j - i + 1)\n",
    "        return max_len"
   ]
  },
  {
   "cell_type": "code",
   "execution_count": null,
   "metadata": {},
   "outputs": [],
   "source": [
    "# 寻找两个有序数组的中位数"
   ]
  },
  {
   "cell_type": "code",
   "execution_count": null,
   "metadata": {},
   "outputs": [],
   "source": [
    "class Solution:\n",
    "    def findMedianSortedArrays(self, nums1: List[int], nums2: List[int]) -> float:\n",
    "        p1 = p2 = 0\n",
    "        ls1 = len(nums1)\n",
    "        ls2 = len(nums2)\n",
    "        all_nums = []\n",
    "        median = 0.0\n",
    "        while p1 < ls1 and p2 < ls2:\n",
    "            if nums1[p1] < nums2[p2]:\n",
    "                all_nums.append(nums1[p1])\n",
    "                p1 += 1\n",
    "            else:\n",
    "                all_nums.append(nums2[p2])\n",
    "                p2 += 1\n",
    "        if p1 < ls1:\n",
    "            while p1 < ls1:\n",
    "                all_nums.append(nums1[p1])\n",
    "                p1 += 1\n",
    "        if p2 < ls2:\n",
    "            while p2 < ls2:\n",
    "                all_nums.append(nums2[p2])\n",
    "                p2 += 1\n",
    "        # print all_nums\n",
    "        if (ls1 + ls2) % 2 == 1:\n",
    "            median = all_nums[(ls1 + ls2) / 2]\n",
    "        else:\n",
    "            median = 1.0 * (all_nums[(ls1 + ls2) / 2] + all_nums[(ls1 + ls2) / 2 - 1]) / 2\n",
    "        return median"
   ]
  },
  {
   "cell_type": "markdown",
   "metadata": {},
   "source": [
    "# 70. 爬楼梯 \n",
    "## 递归 动态规划"
   ]
  },
  {
   "cell_type": "code",
   "execution_count": 2,
   "metadata": {},
   "outputs": [],
   "source": [
    "class Solution:\n",
    "    def climbStairs(self, n: int) -> int:\n",
    "        if n==0: return 0\n",
    "        if n==1: return 1\n",
    "        steps = [0]*(n+1)\n",
    "        steps[1] = 1\n",
    "        steps[2] = 2\n",
    "        for i in range(3,n+1):\n",
    "            steps[i] = steps[i-1] + steps[i-2]\n",
    "        return steps[n]"
   ]
  },
  {
   "cell_type": "markdown",
   "metadata": {},
   "source": [
    "# 66 加一\n",
    "## 数组"
   ]
  },
  {
   "cell_type": "code",
   "execution_count": 14,
   "metadata": {},
   "outputs": [],
   "source": [
    "class Solution(object):\n",
    "    def plusOne(self, digits):\n",
    "        \"\"\"\n",
    "        :type digits: List[int]\n",
    "        :rtype: List[int]\n",
    "        \"\"\"\n",
    "        i = len(digits)-1\n",
    "        while(i>=0):\n",
    "            if i == 0:\n",
    "                if digits[i]<9:\n",
    "                    digits[i]+=1\n",
    "                    return digits\n",
    "                else:\n",
    "                    digits[i] = 0\n",
    "                    tmp = [1]\n",
    "                    tmp.extend(digits)\n",
    "                    return tmp\n",
    "            elif digits[i]<9:\n",
    "                digits[i]+=1\n",
    "                return digits\n",
    "            else:\n",
    "                digits[i] = 0\n",
    "                i-=1"
   ]
  },
  {
   "cell_type": "markdown",
   "metadata": {},
   "source": [
    "# 递归"
   ]
  },
  {
   "cell_type": "markdown",
   "metadata": {},
   "source": [
    "## 938. 二叉搜索树的范围和\n",
    "给定二叉搜索树的根结点 root，返回 L 和 R（含）之间的所有结点的值的和。\n",
    "二叉搜索树保证具有唯一的值。"
   ]
  },
  {
   "cell_type": "code",
   "execution_count": 8,
   "metadata": {},
   "outputs": [],
   "source": [
    "# Definition for a binary tree node.\n",
    "class TreeNode:\n",
    "    def __init__(self, x):\n",
    "        self.val = x\n",
    "        self.left = None\n",
    "        self.right = None\n",
    "\n",
    "class Solution:\n",
    "    def rangeSumBST(self, root: TreeNode, L: int, R: int) -> int:\n",
    "        if root == None:\n",
    "            return 0\n",
    "        if root.val >= L and root.val<=R:\n",
    "            return root.val + self.rangeSumBST(root.left, L, R) + self.rangeSumBST(root.right, L, R)\n",
    "        else:\n",
    "            return self.rangeSumBST(root.left, L, R) + self.rangeSumBST(root.right, L, R)\n",
    "# Test\n",
    "node = TreeNode(10)\n",
    "node.left = TreeNode(5)\n",
    "node.right = TreeNode(15)\n",
    "node.left.left = TreeNode(3)\n",
    "node.left.right= TreeNode(7)\n",
    "node.right.right = TreeNode(18)\n",
    "\n",
    "s = Solution()\n",
    "s.rangeSumBST(node, 7, 15)"
   ]
  },
  {
   "cell_type": "code",
   "execution_count": null,
   "metadata": {},
   "outputs": [],
   "source": []
  },
  {
   "cell_type": "markdown",
   "metadata": {},
   "source": [
    "# 链表"
   ]
  },
  {
   "cell_type": "markdown",
   "metadata": {},
   "source": [
    "## 876. 链表的中间结点\n",
    "给定一个带有头结点 head 的非空单链表，返回链表的中间结点。\n",
    "\n",
    "如果有两个中间结点，则返回第二个中间结点。"
   ]
  },
  {
   "cell_type": "code",
   "execution_count": null,
   "metadata": {},
   "outputs": [],
   "source": [
    "# Definition for singly-linked list.\n",
    "class ListNode:\n",
    "    def __init__(self, x):\n",
    "        self.val = x\n",
    "        self.next = None\n",
    "\n",
    "class Solution:\n",
    "    def middleNode(self, head: ListNode) -> ListNode:\n",
    "        slow = head\n",
    "        fast = head\n",
    "        while fast!=None and fast.next!=None:\n",
    "            slow = slow.next\n",
    "            fast = fast.next.next\n",
    "        return slow"
   ]
  },
  {
   "cell_type": "markdown",
   "metadata": {},
   "source": [
    "## 160. 相交链表"
   ]
  },
  {
   "cell_type": "code",
   "execution_count": null,
   "metadata": {},
   "outputs": [],
   "source": [
    "# Definition for singly-linked list.\n",
    "# class ListNode(object):\n",
    "#     def __init__(self, x):\n",
    "#         self.val = x\n",
    "#         self.next = None\n",
    "\n",
    "class Solution(object):\n",
    "    def getIntersectionNode(self, headA, headB):\n",
    "        \"\"\"\n",
    "        :type head1, head1: ListNode\n",
    "        :rtype: ListNode\n",
    "        \"\"\"\n",
    "        lenA = lenB = 0\n",
    "        while headA!=None:\n",
    "            headA = headA.next\n",
    "            lenA+=1\n",
    "        while headB!=None:\n",
    "            headB = headB.next\n",
    "            lenB+=1\n",
    "        if lenA>lenB:\n",
    "            for i in range(lenA-lenB):\n",
    "                headA = headA.next\n",
    "        else:\n",
    "            for i in range(lenB-lenA):\n",
    "                headB = headB.next\n",
    "        while headA!=headB and headA!=None:\n",
    "            headA=headA.next\n",
    "            headB=headB.next\n",
    "        if headA!=None:\n",
    "            return headA"
   ]
  },
  {
   "cell_type": "markdown",
   "metadata": {},
   "source": [
    "### Another Goog Submit"
   ]
  },
  {
   "cell_type": "code",
   "execution_count": null,
   "metadata": {},
   "outputs": [],
   "source": [
    "# Definition for singly-linked list.\n",
    "# class ListNode(object):\n",
    "#     def __init__(self, x):\n",
    "#         self.val = x\n",
    "#         self.next = None\n",
    "\n",
    "class Solution(object):\n",
    "    def getIntersectionNode(self, headA, headB):\n",
    "        \"\"\"\n",
    "        :type head1, head1: ListNode\n",
    "        :rtype: ListNode\n",
    "        \"\"\"\n",
    "        p1 = headA\n",
    "        p2 = headB\n",
    "        while p1!=p2:\n",
    "            p1 = headB if p1 is None else p1.next\n",
    "            p2 = headA if p2 is None else p2.next\n",
    "        return p1"
   ]
  },
  {
   "cell_type": "markdown",
   "metadata": {},
   "source": [
    "## 454 FourSum II"
   ]
  },
  {
   "cell_type": "code",
   "execution_count": 1,
   "metadata": {},
   "outputs": [],
   "source": [
    "class Solution(object):\n",
    "    def fourSumCount(self, A, B, C, D):\n",
    "        \"\"\"\n",
    "        :type A: List[int]\n",
    "        :type B: List[int]\n",
    "        :type C: List[int]\n",
    "        :type D: List[int]\n",
    "        :rtype: int\n",
    "        \"\"\"\n",
    "        map1 = dict()\n",
    "        for i in A:\n",
    "            for j in B:\n",
    "                if i+j in map1:\n",
    "                    map1[i+j]+=1\n",
    "                else:\n",
    "                    map1[i+j]=1\n",
    "        map2 = dict()\n",
    "        for i in C:\n",
    "            for j in D:\n",
    "                if i+j in map2:\n",
    "                    map2[i+j]+=1\n",
    "                else:\n",
    "                    map2[i+j]=1\n",
    "        result = 0\n",
    "        for i in map1.keys():\n",
    "            for j in map2.keys():\n",
    "                if i+j == 0:\n",
    "                    result+=map1[i]*map2[j]\n",
    "        return result\n",
    "## THE EFFICIENCY O(N**2)"
   ]
  },
  {
   "cell_type": "code",
   "execution_count": null,
   "metadata": {},
   "outputs": [],
   "source": []
  }
 ],
 "metadata": {
  "kernelspec": {
   "display_name": "Python 3",
   "language": "python",
   "name": "python3"
  },
  "language_info": {
   "codemirror_mode": {
    "name": "ipython",
    "version": 3
   },
   "file_extension": ".py",
   "mimetype": "text/x-python",
   "name": "python",
   "nbconvert_exporter": "python",
   "pygments_lexer": "ipython3",
   "version": "3.7.3"
  }
 },
 "nbformat": 4,
 "nbformat_minor": 2
}
