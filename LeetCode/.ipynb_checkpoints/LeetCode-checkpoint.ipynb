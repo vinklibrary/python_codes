{
 "cells": [
  {
   "cell_type": "code",
   "execution_count": 1,
   "metadata": {},
   "outputs": [],
   "source": [
    "# 无重复字符的最长自串"
   ]
  },
  {
   "cell_type": "code",
   "execution_count": null,
   "metadata": {},
   "outputs": [],
   "source": [
    "class Solution:\n",
    "    def lengthOfLongestSubstring(self, s: str) -> int:\n",
    "        charMap = {}\n",
    "        for i in range(256):\n",
    "            charMap[i] = -1\n",
    "        ls = len(s)\n",
    "        i = max_len = 0\n",
    "        for j in range(ls):\n",
    "            # Note that when charMap[ord(s[j])] >= i, it means that there are\n",
    "            # duplicate character in current i,j. So we need to update i.\n",
    "            if charMap[ord(s[j])] >= i:\n",
    "                i = charMap[ord(s[j])] + 1\n",
    "            charMap[ord(s[j])] = j\n",
    "            max_len = max(max_len, j - i + 1)\n",
    "        return max_len"
   ]
  },
  {
   "cell_type": "code",
   "execution_count": null,
   "metadata": {},
   "outputs": [],
   "source": [
    "# 寻找两个有序数组的中位数"
   ]
  },
  {
   "cell_type": "code",
   "execution_count": null,
   "metadata": {},
   "outputs": [],
   "source": [
    "class Solution:\n",
    "    def findMedianSortedArrays(self, nums1: List[int], nums2: List[int]) -> float:\n",
    "        p1 = p2 = 0\n",
    "        ls1 = len(nums1)\n",
    "        ls2 = len(nums2)\n",
    "        all_nums = []\n",
    "        median = 0.0\n",
    "        while p1 < ls1 and p2 < ls2:\n",
    "            if nums1[p1] < nums2[p2]:\n",
    "                all_nums.append(nums1[p1])\n",
    "                p1 += 1\n",
    "            else:\n",
    "                all_nums.append(nums2[p2])\n",
    "                p2 += 1\n",
    "        if p1 < ls1:\n",
    "            while p1 < ls1:\n",
    "                all_nums.append(nums1[p1])\n",
    "                p1 += 1\n",
    "        if p2 < ls2:\n",
    "            while p2 < ls2:\n",
    "                all_nums.append(nums2[p2])\n",
    "                p2 += 1\n",
    "        # print all_nums\n",
    "        if (ls1 + ls2) % 2 == 1:\n",
    "            median = all_nums[(ls1 + ls2) / 2]\n",
    "        else:\n",
    "            median = 1.0 * (all_nums[(ls1 + ls2) / 2] + all_nums[(ls1 + ls2) / 2 - 1]) / 2\n",
    "        return median"
   ]
  },
  {
   "cell_type": "markdown",
   "metadata": {},
   "source": [
    "# 70. 爬楼梯 \n",
    "## 递归 动态规划"
   ]
  },
  {
   "cell_type": "code",
   "execution_count": 2,
   "metadata": {},
   "outputs": [],
   "source": [
    "class Solution:\n",
    "    def climbStairs(self, n: int) -> int:\n",
    "        if n==0: return 0\n",
    "        if n==1: return 1\n",
    "        steps = [0]*(n+1)\n",
    "        steps[1] = 1\n",
    "        steps[2] = 2\n",
    "        for i in range(3,n+1):\n",
    "            steps[i] = steps[i-1] + steps[i-2]\n",
    "        return steps[n]"
   ]
  },
  {
   "cell_type": "markdown",
   "metadata": {},
   "source": [
    "# 66 加一\n",
    "## 数组"
   ]
  },
  {
   "cell_type": "code",
   "execution_count": 14,
   "metadata": {},
   "outputs": [],
   "source": [
    "class Solution(object):\n",
    "    def plusOne(self, digits):\n",
    "        \"\"\"\n",
    "        :type digits: List[int]\n",
    "        :rtype: List[int]\n",
    "        \"\"\"\n",
    "        i = len(digits)-1\n",
    "        while(i>=0):\n",
    "            if i == 0:\n",
    "                if digits[i]<9:\n",
    "                    digits[i]+=1\n",
    "                    return digits\n",
    "                else:\n",
    "                    digits[i] = 0\n",
    "                    tmp = [1]\n",
    "                    tmp.extend(digits)\n",
    "                    return tmp\n",
    "            elif digits[i]<9:\n",
    "                digits[i]+=1\n",
    "                return digits\n",
    "            else:\n",
    "                digits[i] = 0\n",
    "                i-=1"
   ]
  },
  {
   "cell_type": "code",
   "execution_count": null,
   "metadata": {},
   "outputs": [],
   "source": []
  }
 ],
 "metadata": {
  "kernelspec": {
   "display_name": "Python 3",
   "language": "python",
   "name": "python3"
  },
  "language_info": {
   "codemirror_mode": {
    "name": "ipython",
    "version": 3
   },
   "file_extension": ".py",
   "mimetype": "text/x-python",
   "name": "python",
   "nbconvert_exporter": "python",
   "pygments_lexer": "ipython3",
   "version": "3.7.1"
  }
 },
 "nbformat": 4,
 "nbformat_minor": 2
}
